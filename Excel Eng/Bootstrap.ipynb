{
 "cells": [
  {
   "attachments": {},
   "cell_type": "markdown",
   "metadata": {},
   "source": [
    "##### To run the below code, please use pip:\n",
    "###### pipenv install - to install all the needed libraries and dependencies\n",
    "###### pipenv shell - to choose this virtual environment\n",
    "###### pipenv --rm - to remove the virtual environment/kernel once done"
   ]
  },
  {
   "cell_type": "code",
   "execution_count": 6,
   "metadata": {},
   "outputs": [],
   "source": [
    "import numpy as np\n",
    "from sklearn.utils import resample\n",
    "import pandas as pd\n",
    "import statistics"
   ]
  },
  {
   "cell_type": "code",
   "execution_count": 7,
   "metadata": {},
   "outputs": [],
   "source": [
    "Original_Samples = pd.read_excel(\"./Bootstrap.xlsx\", sheet_name=None)"
   ]
  },
  {
   "cell_type": "code",
   "execution_count": 8,
   "metadata": {},
   "outputs": [],
   "source": [
    "UK_Sample = Original_Samples[\"United Kingdom Sample\"]\n",
    "NE_Sample = Original_Samples[\"Netherlands Sample\"]\n",
    "IR_Sample = Original_Samples[\"Ireland Sample\"]\n",
    "GER_Sample = Original_Samples[\"Germany Sample\"]\n",
    "FR_Sample = Original_Samples[\"France Sample\"]"
   ]
  },
  {
   "cell_type": "code",
   "execution_count": 9,
   "metadata": {},
   "outputs": [],
   "source": [
    "def Bootstrap(Sample_name, Bootstrap_Q_list, Bootstrap_A_list, Means_Q_list, Medians_Q_list, Means_A_list, Medians_A_list):\n",
    "    Country_Q = Sample_name[\"Items Quantity per Invoice \"]\n",
    "    Country_A = Sample_name[\"Amount Spent per Invoice \"]\n",
    "    for i in range (1000):\n",
    "        Resampling_Q = resample(Country_Q)\n",
    "        Resampling_A = resample(Country_A)\n",
    "        Bootstrap_Q_list.append(Resampling_Q)\n",
    "        Bootstrap_A_list.append(Resampling_A)\n",
    "    for b in Bootstrap_Q_list:\n",
    "        Means_Q_list.append(statistics.mean(b))\n",
    "        Medians_Q_list.append(statistics.median(b))\n",
    "    for b in Bootstrap_A_list:\n",
    "        Means_A_list.append(statistics.mean(b))\n",
    "        Medians_A_list.append(statistics.median(b))\n",
    "    Ci_Q_Mean = [np.percentile(Means_Q_list, 2.5).round(2), np.percentile(Means_Q_list, 97.5).round(2)]\n",
    "    Ci_Q_Median = [np.percentile(Medians_Q_list, 2.5).round(2), np.percentile(Medians_Q_list, 97.5).round(2)]\n",
    "    Ci_A_Mean = [np.percentile(Means_A_list, 2.5).round(2), np.percentile(Means_A_list, 97.5).round(2)]\n",
    "    Ci_A_Median = [np.percentile(Medians_A_list, 2.5).round(2), np.percentile(Medians_A_list, 97.5).round(2)]\n",
    "    return print(f\"{Ci_Q_Mean} \\n {Ci_Q_Median} \\n {Ci_A_Mean} \\n {Ci_A_Median}\")"
   ]
  },
  {
   "cell_type": "code",
   "execution_count": 10,
   "metadata": {},
   "outputs": [
    {
     "name": "stdout",
     "output_type": "stream",
     "text": [
      "[222.23, 258.44] \n",
      " [133.0, 150.0] \n",
      " [251.3, 298.99] \n",
      " [137.0, 156.02]\n"
     ]
    }
   ],
   "source": [
    "UK_Q_Bootstrap = []\n",
    "UK_A_Bootstrap = []\n",
    "UK_Q_Means = []\n",
    "UK_Q_Medians = []\n",
    "UK_A_Means = []\n",
    "UK_A_Medians = []\n",
    "\n",
    "Bootstrap(UK_Sample, UK_Q_Bootstrap, UK_A_Bootstrap, UK_Q_Means, UK_Q_Medians, UK_A_Means, UK_A_Medians)"
   ]
  },
  {
   "cell_type": "code",
   "execution_count": 11,
   "metadata": {},
   "outputs": [
    {
     "name": "stdout",
     "output_type": "stream",
     "text": [
      "[465.3, 6423.08] \n",
      " [73.0, 6997.0] \n",
      " [693.69, 8170.78] \n",
      " [424.8, 8512.92]\n"
     ]
    }
   ],
   "source": [
    "NE_Q_Bootstrap = []\n",
    "NE_A_Bootstrap = []\n",
    "NE_Q_Means = []\n",
    "NE_Q_Medians = []\n",
    "NE_A_Means = []\n",
    "NE_A_Medians = []\n",
    "\n",
    "Bootstrap(NE_Sample, NE_Q_Bootstrap, NE_A_Bootstrap, NE_Q_Means, NE_Q_Medians, NE_A_Means, NE_A_Medians)"
   ]
  },
  {
   "cell_type": "code",
   "execution_count": 12,
   "metadata": {},
   "outputs": [
    {
     "name": "stdout",
     "output_type": "stream",
     "text": [
      "[272.55, 485.76] \n",
      " [139.0, 572.0] \n",
      " [815.87, 2184.35] \n",
      " [753.74, 1056.11]\n"
     ]
    }
   ],
   "source": [
    "IR_Q_Bootstrap = []\n",
    "IR_A_Bootstrap = []\n",
    "IR_Q_Means = []\n",
    "IR_Q_Medians = []\n",
    "IR_A_Means = []\n",
    "IR_A_Medians = []\n",
    "\n",
    "Bootstrap(IR_Sample, IR_Q_Bootstrap, IR_A_Bootstrap, IR_Q_Means, IR_Q_Medians, IR_A_Means, IR_A_Medians)"
   ]
  },
  {
   "cell_type": "code",
   "execution_count": 13,
   "metadata": {},
   "outputs": [
    {
     "name": "stdout",
     "output_type": "stream",
     "text": [
      "[197.54, 360.81] \n",
      " [110.0, 284.04] \n",
      " [407.32, 672.63] \n",
      " [246.54, 595.63]\n"
     ]
    }
   ],
   "source": [
    "GER_Q_Bootstrap = []\n",
    "GER_A_Bootstrap = []\n",
    "GER_Q_Means = []\n",
    "GER_Q_Medians = []\n",
    "GER_A_Means = []\n",
    "GER_A_Medians = []\n",
    "\n",
    "Bootstrap(GER_Sample, GER_Q_Bootstrap, GER_A_Bootstrap, GER_Q_Means, GER_Q_Medians, GER_A_Means, GER_A_Medians)"
   ]
  },
  {
   "cell_type": "code",
   "execution_count": 14,
   "metadata": {},
   "outputs": [
    {
     "name": "stdout",
     "output_type": "stream",
     "text": [
      "[171.07, 264.19] \n",
      " [147.0, 240.0] \n",
      " [325.99, 668.29] \n",
      " [244.65, 413.4]\n"
     ]
    }
   ],
   "source": [
    "FR_Q_Bootstrap = []\n",
    "FR_A_Bootstrap = []\n",
    "FR_Q_Means = []\n",
    "FR_Q_Medians = []\n",
    "FR_A_Means = []\n",
    "FR_A_Medians = []\n",
    "\n",
    "Bootstrap(FR_Sample, FR_Q_Bootstrap, FR_A_Bootstrap, FR_Q_Means, FR_Q_Medians, FR_A_Means, FR_A_Medians)"
   ]
  },
  {
   "cell_type": "code",
   "execution_count": null,
   "metadata": {},
   "outputs": [],
   "source": []
  }
 ],
 "metadata": {
  "kernelspec": {
   "display_name": "Excel_Eng-5MMzWvTi",
   "language": "python",
   "name": "python3"
  },
  "language_info": {
   "codemirror_mode": {
    "name": "ipython",
    "version": 3
   },
   "file_extension": ".py",
   "mimetype": "text/x-python",
   "name": "python",
   "nbconvert_exporter": "python",
   "pygments_lexer": "ipython3",
   "version": "3.10.5"
  },
  "orig_nbformat": 4
 },
 "nbformat": 4,
 "nbformat_minor": 2
}
